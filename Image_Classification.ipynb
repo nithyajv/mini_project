{
  "nbformat": 4,
  "nbformat_minor": 0,
  "metadata": {
    "colab": {
      "name": "Image Classification.ipynb",
      "provenance": [],
      "collapsed_sections": [],
      "authorship_tag": "ABX9TyOjZ64GKpJuoHP8opOeJVAH",
      "include_colab_link": true
    },
    "kernelspec": {
      "name": "python3",
      "display_name": "Python 3"
    },
    "language_info": {
      "name": "python"
    }
  },
  "cells": [
    {
      "cell_type": "markdown",
      "metadata": {
        "id": "view-in-github",
        "colab_type": "text"
      },
      "source": [
        "<a href=\"https://colab.research.google.com/github/nithyajv/mini_project/blob/main/Image_Classification.ipynb\" target=\"_parent\"><img src=\"https://colab.research.google.com/assets/colab-badge.svg\" alt=\"Open In Colab\"/></a>"
      ]
    },
    {
      "cell_type": "code",
      "metadata": {
        "colab": {
          "base_uri": "https://localhost:8080/"
        },
        "id": "RToJKG5oVJLu",
        "outputId": "89f97d10-1b3d-4125-975d-53f785732361"
      },
      "source": [
        "!pip install ipython-autotime\n",
        "%load_ext autotime"
      ],
      "execution_count": 7,
      "outputs": [
        {
          "output_type": "stream",
          "text": [
            "Collecting ipython-autotime\n",
            "  Downloading https://files.pythonhosted.org/packages/b4/c9/b413a24f759641bc27ef98c144b590023c8038dfb8a3f09e713e9dff12c1/ipython_autotime-0.3.1-py2.py3-none-any.whl\n",
            "Requirement already satisfied: ipython in /usr/local/lib/python3.7/dist-packages (from ipython-autotime) (5.5.0)\n",
            "Requirement already satisfied: pygments in /usr/local/lib/python3.7/dist-packages (from ipython->ipython-autotime) (2.6.1)\n",
            "Requirement already satisfied: prompt-toolkit<2.0.0,>=1.0.4 in /usr/local/lib/python3.7/dist-packages (from ipython->ipython-autotime) (1.0.18)\n",
            "Requirement already satisfied: simplegeneric>0.8 in /usr/local/lib/python3.7/dist-packages (from ipython->ipython-autotime) (0.8.1)\n",
            "Requirement already satisfied: pickleshare in /usr/local/lib/python3.7/dist-packages (from ipython->ipython-autotime) (0.7.5)\n",
            "Requirement already satisfied: setuptools>=18.5 in /usr/local/lib/python3.7/dist-packages (from ipython->ipython-autotime) (57.0.0)\n",
            "Requirement already satisfied: decorator in /usr/local/lib/python3.7/dist-packages (from ipython->ipython-autotime) (4.4.2)\n",
            "Requirement already satisfied: pexpect; sys_platform != \"win32\" in /usr/local/lib/python3.7/dist-packages (from ipython->ipython-autotime) (4.8.0)\n",
            "Requirement already satisfied: traitlets>=4.2 in /usr/local/lib/python3.7/dist-packages (from ipython->ipython-autotime) (5.0.5)\n",
            "Requirement already satisfied: wcwidth in /usr/local/lib/python3.7/dist-packages (from prompt-toolkit<2.0.0,>=1.0.4->ipython->ipython-autotime) (0.2.5)\n",
            "Requirement already satisfied: six>=1.9.0 in /usr/local/lib/python3.7/dist-packages (from prompt-toolkit<2.0.0,>=1.0.4->ipython->ipython-autotime) (1.15.0)\n",
            "Requirement already satisfied: ptyprocess>=0.5 in /usr/local/lib/python3.7/dist-packages (from pexpect; sys_platform != \"win32\"->ipython->ipython-autotime) (0.7.0)\n",
            "Requirement already satisfied: ipython-genutils in /usr/local/lib/python3.7/dist-packages (from traitlets>=4.2->ipython->ipython-autotime) (0.2.0)\n",
            "Installing collected packages: ipython-autotime\n",
            "Successfully installed ipython-autotime-0.3.1\n",
            "time: 172 µs (started: 2021-06-19 12:42:51 +00:00)\n"
          ],
          "name": "stdout"
        }
      ]
    },
    {
      "cell_type": "code",
      "metadata": {
        "colab": {
          "base_uri": "https://localhost:8080/"
        },
        "id": "PEehGg1hKoN7",
        "outputId": "969dab75-54c8-4629-85ce-2424e5d5b649"
      },
      "source": [
        "#Gather data:images\n",
        "#Use python libraries to scrape the images "
      ],
      "execution_count": 8,
      "outputs": [
        {
          "output_type": "stream",
          "text": [
            "time: 2.24 ms (started: 2021-06-19 12:43:09 +00:00)\n"
          ],
          "name": "stdout"
        }
      ]
    },
    {
      "cell_type": "code",
      "metadata": {
        "colab": {
          "base_uri": "https://localhost:8080/"
        },
        "id": "x5be5-F5OzgK",
        "outputId": "bcdb548b-4b20-4b9e-b435-85bc26bddbc2"
      },
      "source": [
        "!pip install bing-image-downloader"
      ],
      "execution_count": 9,
      "outputs": [
        {
          "output_type": "stream",
          "text": [
            "Collecting bing-image-downloader\n",
            "  Downloading https://files.pythonhosted.org/packages/2c/f9/e827c690d0df1ec2f2f27cf0fb3d1f944c5c56253f8d3750ccaff051b3d3/bing_image_downloader-1.1.0-py3-none-any.whl\n",
            "Installing collected packages: bing-image-downloader\n",
            "Successfully installed bing-image-downloader-1.1.0\n",
            "time: 3.14 s (started: 2021-06-19 12:43:12 +00:00)\n"
          ],
          "name": "stdout"
        }
      ]
    },
    {
      "cell_type": "code",
      "metadata": {
        "colab": {
          "base_uri": "https://localhost:8080/"
        },
        "id": "nB4CibNVPBfO",
        "outputId": "5d4ab1c3-7b38-4d73-9f6e-d2cf597108d4"
      },
      "source": [
        "!mkdir images"
      ],
      "execution_count": 43,
      "outputs": [
        {
          "output_type": "stream",
          "text": [
            "mkdir: cannot create directory ‘images’: File exists\n",
            "time: 130 ms (started: 2021-06-19 13:11:54 +00:00)\n"
          ],
          "name": "stdout"
        }
      ]
    },
    {
      "cell_type": "code",
      "metadata": {
        "colab": {
          "base_uri": "https://localhost:8080/"
        },
        "id": "NkNICI7gSqqO",
        "outputId": "1ea1ad65-e333-4420-e288-f79d5b90aff7"
      },
      "source": [
        "from bing_image_downloader import downloader\n",
        "downloader.download(\"clocks\",limit=30,output_dir='images',adult_filter_off=True)"
      ],
      "execution_count": 44,
      "outputs": [
        {
          "output_type": "stream",
          "text": [
            "[%] Downloading Images to /content/images/clocks\n",
            "\n",
            "\n",
            "[!!]Indexing page: 1\n",
            "\n",
            "[%] Indexed 30 Images on Page 1.\n",
            "\n",
            "===============================================\n",
            "\n",
            "[%] Downloading Image #1 from https://a.1stdibscdn.com/satinwood-dachluhr-vienna-regulator-wall-clock-for-sale-picture-2/f_39063/f_137548821550774194289/_DSC8392_master.JPG?width=768\n",
            "[%] File Downloaded !\n",
            "\n",
            "[%] Downloading Image #2 from https://i.ebayimg.com/images/i/401135942446-0-1/s-l1000.jpg\n",
            "[%] File Downloaded !\n",
            "\n",
            "[%] Downloading Image #3 from https://images.antiquesatlas.com/dealer-stock-images/steammillclocks/Fine_Biedermeier_Vienna_Regula_as895a134z-1.jpg\n",
            "[%] File Downloaded !\n",
            "\n",
            "[%] Downloading Image #4 from https://i.pinimg.com/originals/13/ac/e0/13ace0867545ffaf017110a0fc636839.jpg\n",
            "[%] File Downloaded !\n",
            "\n",
            "[%] Downloading Image #5 from http://www.storyclocks.co.uk/images/stock/Lor17/5.jpg\n",
            "[%] File Downloaded !\n",
            "\n",
            "[%] Downloading Image #6 from https://crisfordclocks.com/wp-content/uploads/2019/04/clocks-4-e1558097848724-854x1024.jpg\n",
            "[%] File Downloaded !\n",
            "\n",
            "[%] Downloading Image #7 from https://i.pinimg.com/originals/76/6e/a4/766ea474f52c07df0188a03af5cf0daf.jpg\n",
            "[%] File Downloaded !\n",
            "\n",
            "[%] Downloading Image #8 from https://images.antiquesatlas.com/dealer-stock-images/steammillclocks/SATINWOOD_DACHLUHR_VIENNA_REGU_as895a138z-5.jpg\n",
            "[%] File Downloaded !\n",
            "\n",
            "[%] Downloading Image #9 from https://clockshops.com/wp-content/uploads/2016/08/BUL-C1515.jpg\n",
            "[%] File Downloaded !\n",
            "\n",
            "[%] Downloading Image #10 from https://images.antiquesatlas.com/dealer-stock-images/steammillclocks/Biedermeier_Vienna_Regulator_w_as895a084z-1.jpg\n",
            "[%] File Downloaded !\n",
            "\n",
            "[%] Downloading Image #11 from https://i.ebayimg.com/images/i/331778796337-0-1/s-l1000.jpg\n",
            "[%] File Downloaded !\n",
            "\n",
            "[%] Downloading Image #12 from https://i.ebayimg.com/images/i/262481301157-0-1/s-l1000.jpg\n",
            "[%] File Downloaded !\n",
            "\n",
            "[%] Downloading Image #13 from https://i.pinimg.com/originals/b3/d5/09/b3d509a807257d82ef23556956adec59.jpg\n",
            "[%] File Downloaded !\n",
            "\n",
            "[%] Downloading Image #14 from https://i.pinimg.com/originals/b3/b4/72/b3b47221c8a6328aaa9da1fb53d66499.jpg\n",
            "[%] File Downloaded !\n",
            "\n",
            "[%] Downloading Image #15 from https://i.pinimg.com/originals/b5/82/bf/b582bfdbeb14c0f1ebbc0da8e8b2cbfc.jpg\n",
            "[%] File Downloaded !\n",
            "\n",
            "[%] Downloading Image #16 from https://i.pinimg.com/736x/d2/80/f7/d280f78d118c0c268c17bee152b6465f--traditional-furniture-birch-lane.jpg\n",
            "[%] File Downloaded !\n",
            "\n",
            "[%] Downloading Image #17 from https://images.squarespace-cdn.com/content/v1/56e5c8d237013b50c08b8dc0/1516735500202-55NHHS4B4WWV2P5GE00M/ke17ZwdGBToddI8pDm48kIbZiaiweFg6HEcT2YOoSZZZw-zPPgdn4jUwVcJE1ZvWQUxwkmyExglNqGp0IvTJZUJFbgE-7XRK3dMEBRBhUpw9WrSafYHzcu3fpdasXDunFqGQCDOzAXx_ihmV6K1p0PeTODRMxzMIJ1l_6mWNnGk/50's+electric+clock\n",
            "[%] File Downloaded !\n",
            "\n",
            "[%] Downloading Image #18 from https://s.yimg.com/aah/simplywallclocks/joyful-meditation-wall-clock-by-rhythm-clocks-4.gif\n",
            "[%] File Downloaded !\n",
            "\n",
            "[%] Downloading Image #19 from http://cdn.shopify.com/s/files/1/0217/9389/8596/products/triple_oak_tide_roman_hydrom_2__01051_1200x630.jpg?v=1549561966\n",
            "[%] File Downloaded !\n",
            "\n",
            "[%] Downloading Image #20 from http://www.ablogtowatch.com/wp-content/uploads/2017/06/Citizen-Clocks-aBlogtoWatch-8.jpg\n",
            "[%] File Downloaded !\n",
            "\n",
            "[%] Downloading Image #21 from https://www.looksgud.in/blog/wp-content/uploads/2019/06/divinecraft-clock.jpg\n",
            "[%] File Downloaded !\n",
            "\n",
            "[%] Downloading Image #22 from http://www.ablogtowatch.com/wp-content/uploads/2017/06/Citizen-Clocks-aBlogtoWatch-6.jpg\n",
            "[%] File Downloaded !\n",
            "\n",
            "[%] Downloading Image #23 from https://i.pinimg.com/originals/53/d1/34/53d134ba930e70bc6612adf240d6e3d0.jpg\n",
            "[%] File Downloaded !\n",
            "\n",
            "[%] Downloading Image #24 from https://i.pinimg.com/originals/45/de/9a/45de9a7072599fd67aacfd781cf83507.jpg\n",
            "[%] File Downloaded !\n",
            "\n",
            "[%] Downloading Image #25 from https://www.vinylclocks.com/wp-content/uploads/2015/07/spandau-ballet-true-vinyl-record-clock-1983.jpg\n",
            "[%] File Downloaded !\n",
            "\n",
            "[%] Downloading Image #26 from https://i.pinimg.com/originals/01/61/30/0161307cd44f03a514832ac80e323f99.png\n",
            "[%] File Downloaded !\n",
            "\n",
            "[%] Downloading Image #27 from http://3.bp.blogspot.com/-wkz7xbNrqcc/Tr0qHjO1joI/AAAAAAAAMbE/tzGCVcGd8oE/s1600/West-Elm-simple-wood-wall-clocks.jpg\n",
            "[%] File Downloaded !\n",
            "\n",
            "[%] Downloading Image #28 from https://ronaldjoiner.files.wordpress.com/2016/05/rs-art-and-antiquity-museums-61.jpg\n",
            "[%] File Downloaded !\n",
            "\n",
            "[%] Downloading Image #29 from https://www.invaluable.com/blog/wp-content/uploads/2020/02/antique-clocks.jpg\n",
            "[!] Issue getting: https://www.invaluable.com/blog/wp-content/uploads/2020/02/antique-clocks.jpg\n",
            "[!] Error:: HTTP Error 403: Forbidden\n",
            "[%] Downloading Image #29 from https://i.ebayimg.com/images/i/271995716806-0-1/s-l1000.jpg\n",
            "[%] File Downloaded !\n",
            "\n",
            "\n",
            "\n",
            "[!!]Indexing page: 2\n",
            "\n",
            "[%] Indexed 35 Images on Page 2.\n",
            "\n",
            "===============================================\n",
            "\n",
            "[%] Downloading Image #30 from https://a.1stdibscdn.com/satinwood-dachluhr-vienna-regulator-wall-clock-for-sale-picture-2/f_39063/f_137548821550774194289/_DSC8392_master.JPG?width=768\n",
            "[%] File Downloaded !\n",
            "\n",
            "\n",
            "\n",
            "[%] Done. Downloaded 30 images.\n",
            "===============================================\n",
            "\n",
            "Please show your support here\n",
            "https://www.buymeacoffee.com/gurugaurav\n",
            "\n",
            "===============================================\n",
            "\n",
            "time: 7.23 s (started: 2021-06-19 13:12:00 +00:00)\n"
          ],
          "name": "stdout"
        }
      ]
    },
    {
      "cell_type": "code",
      "metadata": {
        "colab": {
          "base_uri": "https://localhost:8080/"
        },
        "id": "69pabT2AUAH9",
        "outputId": "852c0e6c-679c-4685-8848-f55320b9fc1c"
      },
      "source": [
        "downloader.download(\"motorbike\",limit=30,output_dir='images',adult_filter_off=True)"
      ],
      "execution_count": 45,
      "outputs": [
        {
          "output_type": "stream",
          "text": [
            "[%] Downloading Images to /content/images/motorbike\n",
            "\n",
            "\n",
            "[!!]Indexing page: 1\n",
            "\n",
            "[%] Indexed 30 Images on Page 1.\n",
            "\n",
            "===============================================\n",
            "\n",
            "[%] Downloading Image #1 from https://centurion-magazine.com/media/2080/beautiful-motorbike-gallery-crs_duu.jpg?progressive=true&amp;encoder=freeimage&amp;quality=75&amp;width=1024&amp;height=576&amp;mode=crop\n",
            "[Error]Invalid image, not saving https://centurion-magazine.com/media/2080/beautiful-motorbike-gallery-crs_duu.jpg?progressive=true&amp;encoder=freeimage&amp;quality=75&amp;width=1024&amp;height=576&amp;mode=crop\n",
            "\n",
            "[!] Issue getting: https://centurion-magazine.com/media/2080/beautiful-motorbike-gallery-crs_duu.jpg?progressive=true&amp;encoder=freeimage&amp;quality=75&amp;width=1024&amp;height=576&amp;mode=crop\n",
            "[!] Error:: Invalid image, not saving https://centurion-magazine.com/media/2080/beautiful-motorbike-gallery-crs_duu.jpg?progressive=true&amp;encoder=freeimage&amp;quality=75&amp;width=1024&amp;height=576&amp;mode=crop\n",
            "\n",
            "[%] Downloading Image #1 from https://i.pinimg.com/originals/67/fb/bd/67fbbd3d4af107d504c47499211c8c98.jpg\n",
            "[%] File Downloaded !\n",
            "\n",
            "[%] Downloading Image #2 from https://www.expressandstar.com/resizer/dmPI0Wug3SOEJ_aylFUtbXlkM68=/1200x0/cloudfront-us-east-1.images.arcpublishing.com/mna/GVMYGF7EQNEIXHJYOFX5JNH66E.jpg\n",
            "[%] File Downloaded !\n",
            "\n",
            "[%] Downloading Image #3 from https://www.china-tricycle.com/uploadfiles/103.120.83.63/webid1698/source/202011/7910016059325574.jpg\n",
            "[%] File Downloaded !\n",
            "\n",
            "[%] Downloading Image #4 from https://i.pinimg.com/originals/d7/05/f0/d705f09f779c9e69d5b20f1f727b5444.jpg\n",
            "[%] File Downloaded !\n",
            "\n",
            "[%] Downloading Image #5 from https://i.ebayimg.com/00/s/NjgzWDEwMjQ=/z/M7UAAOSw6QJdODbK/$_86.JPG\n",
            "[%] File Downloaded !\n",
            "\n",
            "[%] Downloading Image #6 from https://live.staticflickr.com/3186/4564094934_dfb52bb88d_b.jpg\n",
            "[%] File Downloaded !\n",
            "\n",
            "[%] Downloading Image #7 from https://www.autotrendgh.com/wp-content/uploads/2019/09/honda_motorcycles.png\n",
            "[%] File Downloaded !\n",
            "\n",
            "[%] Downloading Image #8 from https://i.ebayimg.com/images/g/g5IAAOSwTpZd07M-/s-l640.jpg\n",
            "[%] File Downloaded !\n",
            "\n",
            "[%] Downloading Image #9 from https://www.motorcycle.com/blog/wp-content/uploads/2019/10/101819-2019-monday-motorbike-moped-GEN7-WBG-ECOM-2.jpg\n",
            "[%] File Downloaded !\n",
            "\n",
            "[%] Downloading Image #10 from https://www.themilliardaire.com/en/wp-content/uploads/2015/12/DUCATI-XDIAVEL-4-1024x768.jpg\n",
            "[%] File Downloaded !\n",
            "\n",
            "[%] Downloading Image #11 from https://www.themilliardaire.com/en/wp-content/uploads/2015/12/DUCATI-XDIAVEL-2-768x576.jpg\n",
            "[%] File Downloaded !\n",
            "\n",
            "[%] Downloading Image #12 from https://motorcycles-for-sale.biz/img/motorcyclephotos/full/motorbike427354.jpg\n",
            "[%] File Downloaded !\n",
            "\n",
            "[%] Downloading Image #13 from http://nnimgt-a.akamaihd.net/transform/v1/crop/frm/4MhkJ8SfhCqb4cUfcgRRmJ/8b7ef18e-4ae3-4ed4-bfb8-7880a37dd1aa.JPG/r0_118_1296_850_w1200_h678_fmax.jpg\n",
            "[%] File Downloaded !\n",
            "\n",
            "[%] Downloading Image #14 from https://s3-ap-southeast-2.amazonaws.com/media1.mydeal.com.au/44447/bmw-motorbike-kids-motorcycle-electric-ride-on-toy-car-with-anti-slip-tyres-black-363864_00.jpg\n",
            "[%] File Downloaded !\n",
            "\n",
            "[%] Downloading Image #15 from https://static.wixstatic.com/media/44df4de3ed00532e72dc47a204e915d0.jpg/v1/fill/w_1024,h_630,fp_0.50_0.50,q_90/44df4de3ed00532e72dc47a204e915d0.jpg\n",
            "[%] File Downloaded !\n",
            "\n",
            "[%] Downloading Image #16 from https://www.china-tricycle.com/uploadfiles/103.120.83.63/webid1698/source/202011/160626594274.jpg\n",
            "[%] File Downloaded !\n",
            "\n",
            "[%] Downloading Image #17 from https://s-media-cache-ak0.pinimg.com/originals/18/c6/74/18c6747ca4c2a2b80912eb2d55704a61.jpg\n",
            "[%] File Downloaded !\n",
            "\n",
            "[%] Downloading Image #18 from https://www.yankodesign.com/images/design_news/2018/06/this-custom-bmw-motorbike-is-a-sinewy-beast/bmw_motorbike_blechmann_4.jpg\n",
            "[%] File Downloaded !\n",
            "\n",
            "[%] Downloading Image #19 from https://quickmarket.co.uk/wp-content/uploads/2018/06/1-1722.jpg\n",
            "[%] File Downloaded !\n",
            "\n",
            "[%] Downloading Image #20 from https://i.pinimg.com/736x/7b/a5/94/7ba594cdcf959f76b4f35f43c342cd22.jpg\n",
            "[%] File Downloaded !\n",
            "\n",
            "[%] Downloading Image #21 from https://mcn-images.bauersecure.com/PageFiles/645903/Triumph-scrambler-1.jpg\n",
            "[%] File Downloaded !\n",
            "\n",
            "[%] Downloading Image #22 from https://www.luxuryarabia.com/wp-content/uploads/2018/05/131058_2019_CRF450L.jpg\n",
            "[!] Issue getting: https://www.luxuryarabia.com/wp-content/uploads/2018/05/131058_2019_CRF450L.jpg\n",
            "[!] Error:: HTTP Error 404: Not Found\n",
            "[%] Downloading Image #22 from https://scrapmybike.com/wp-content/uploads/2017/07/sell-my-motorbike.jpg\n",
            "[%] File Downloaded !\n",
            "\n",
            "[%] Downloading Image #23 from https://i.pinimg.com/originals/3c/7c/37/3c7c3789a297df5c18b63b3293e05614.jpg\n",
            "[%] File Downloaded !\n",
            "\n",
            "[%] Downloading Image #24 from https://omomakay.com/oc-content/uploads/8/3388.jpg\n",
            "[%] File Downloaded !\n",
            "\n",
            "[%] Downloading Image #25 from https://i.ebayimg.com/images/i/361846567019-0-1/s-l1000.jpg\n",
            "[%] File Downloaded !\n",
            "\n",
            "[%] Downloading Image #26 from https://3.bp.blogspot.com/-jyeow4JnUPg/VyIQ1MzHcKI/AAAAAAAAnUM/QZMM2QVkyK88FfPffIoiLfBsSgWc3wEJwCLcB/s1600/01.JPG\n",
            "[%] File Downloaded !\n",
            "\n",
            "[%] Downloading Image #27 from https://www.china-tricycle.com/uploadfiles/103.120.83.63/webid1698/source/202011/160473895540.jpg\n",
            "[%] File Downloaded !\n",
            "\n",
            "[%] Downloading Image #28 from https://i.pinimg.com/originals/99/f4/7d/99f47dacd8829ea8ecd04b7c2e9b1f82.jpg\n",
            "[%] File Downloaded !\n",
            "\n",
            "\n",
            "\n",
            "[!!]Indexing page: 2\n",
            "\n",
            "[%] Indexed 35 Images on Page 2.\n",
            "\n",
            "===============================================\n",
            "\n",
            "[%] Downloading Image #29 from https://centurion-magazine.com/media/2080/beautiful-motorbike-gallery-crs_duu.jpg?progressive=true&amp;encoder=freeimage&amp;quality=75&amp;width=1024&amp;height=576&amp;mode=crop\n",
            "[Error]Invalid image, not saving https://centurion-magazine.com/media/2080/beautiful-motorbike-gallery-crs_duu.jpg?progressive=true&amp;encoder=freeimage&amp;quality=75&amp;width=1024&amp;height=576&amp;mode=crop\n",
            "\n",
            "[!] Issue getting: https://centurion-magazine.com/media/2080/beautiful-motorbike-gallery-crs_duu.jpg?progressive=true&amp;encoder=freeimage&amp;quality=75&amp;width=1024&amp;height=576&amp;mode=crop\n",
            "[!] Error:: Invalid image, not saving https://centurion-magazine.com/media/2080/beautiful-motorbike-gallery-crs_duu.jpg?progressive=true&amp;encoder=freeimage&amp;quality=75&amp;width=1024&amp;height=576&amp;mode=crop\n",
            "\n",
            "[%] Downloading Image #29 from https://i.pinimg.com/originals/67/fb/bd/67fbbd3d4af107d504c47499211c8c98.jpg\n",
            "[%] File Downloaded !\n",
            "\n",
            "[%] Downloading Image #30 from https://www.expressandstar.com/resizer/dmPI0Wug3SOEJ_aylFUtbXlkM68=/1200x0/cloudfront-us-east-1.images.arcpublishing.com/mna/GVMYGF7EQNEIXHJYOFX5JNH66E.jpg\n",
            "[%] File Downloaded !\n",
            "\n",
            "\n",
            "\n",
            "[%] Done. Downloaded 30 images.\n",
            "===============================================\n",
            "\n",
            "Please show your support here\n",
            "https://www.buymeacoffee.com/gurugaurav\n",
            "\n",
            "===============================================\n",
            "\n",
            "time: 18.8 s (started: 2021-06-19 13:12:10 +00:00)\n"
          ],
          "name": "stdout"
        }
      ]
    },
    {
      "cell_type": "code",
      "metadata": {
        "colab": {
          "base_uri": "https://localhost:8080/"
        },
        "id": "jub3G3V2Uh-E",
        "outputId": "f522eee6-24a6-40a4-912a-696d2006c5af"
      },
      "source": [
        "downloader.download(\"red rose\",limit=30,output_dir='images',adult_filter_off=True)"
      ],
      "execution_count": 46,
      "outputs": [
        {
          "output_type": "stream",
          "text": [
            "[%] Downloading Images to /content/images/red rose\n",
            "\n",
            "\n",
            "[!!]Indexing page: 1\n",
            "\n",
            "[%] Indexed 30 Images on Page 1.\n",
            "\n",
            "===============================================\n",
            "\n",
            "[%] Downloading Image #1 from https://res.cloudinary.com/bloomnation/c_pad,d_vendor:global:catalog:product:image.png,f_auto,fl_preserve_transparency,q_auto/v1550550570/vendor/2961/catalog/product/2/0/20150124123713_file_54c391f9051a6.jpg\n",
            "[%] File Downloaded !\n",
            "\n",
            "[%] Downloading Image #2 from https://cdn11.bigcommerce.com/s-jxetu2nhyu/images/stencil/1280x1280/products/613/1434/20-V4S__90137.1579117758.jpg?c=2\n",
            "[%] File Downloaded !\n",
            "\n",
            "[%] Downloading Image #3 from https://i1.wp.com/entertainmentmesh.com/wp-content/uploads/2017/01/Red-roses.jpg\n",
            "[%] File Downloaded !\n",
            "\n",
            "[%] Downloading Image #4 from https://lindasflowers.com/wp-content/uploads/2019/12/20-v4p.jpg\n",
            "[%] File Downloaded !\n",
            "\n",
            "[%] Downloading Image #5 from https://asset.bloomnation.com/c_pad,d_vendor:global:catalog:product:image.png,f_auto,fl_preserve_transparency,q_auto/v1579055825/vendor/4960/catalog/product/2/0/20200110054813_file_5e18b8dd60087_5e18b92b68d0b_5e1e0a4e37043_5e1e0a4fee5d9.jpg\n",
            "[%] File Downloaded !\n",
            "\n",
            "[%] Downloading Image #6 from https://cdn.shopify.com/s/files/1/0012/4832/9781/products/50_red_roses.jpg?v=1566932952\n",
            "[%] File Downloaded !\n",
            "\n",
            "[%] Downloading Image #7 from https://i.pinimg.com/originals/88/c2/a5/88c2a53b01f776685e0febd2aed97d18.jpg\n",
            "[%] File Downloaded !\n",
            "\n",
            "[%] Downloading Image #8 from https://cdn.shopify.com/s/files/1/2520/3892/products/WeChat_Image_20190122221148_530x@2x.jpg?v=1556692226\n",
            "[%] File Downloaded !\n",
            "\n",
            "[%] Downloading Image #9 from https://asset.bloomnation.com/c_limit,d_vendor:global:catalog:product:image.png,f_auto,fl_preserve_transparency,q_auto/v1597548691/vendor/1410/catalog/product/2/0/20190814054220_file_5d539f3ca34ee_5d539f4a407df.jpeg\n",
            "[%] File Downloaded !\n",
            "\n",
            "[%] Downloading Image #10 from https://i.pinimg.com/originals/86/16/55/861655a1a568b8fb600a7374c0644a50.jpg\n",
            "[%] File Downloaded !\n",
            "\n",
            "[%] Downloading Image #11 from https://asset.bloomnation.com/c_pad,d_vendor:global:catalog:product:image.png,f_auto,fl_preserve_transparency,q_auto/v1599308720/vendor/6617/catalog/product/2/0/20180705044125_file_5b3e4a3572d33.jpg\n",
            "[%] File Downloaded !\n",
            "\n",
            "[%] Downloading Image #12 from https://live.staticflickr.com/8069/8193364735_d95e5db33b_b.jpg\n",
            "[%] File Downloaded !\n",
            "\n",
            "[%] Downloading Image #13 from https://www.floralbash.ca/wp-content/uploads/2018/01/AdobeStock_88501905.jpeg\n",
            "[%] File Downloaded !\n",
            "\n",
            "[%] Downloading Image #14 from https://cdn.shopify.com/s/files/1/0012/4832/9781/products/50_red_roses_1.jpg?v=1566933976\n",
            "[%] File Downloaded !\n",
            "\n",
            "[%] Downloading Image #15 from https://i.pinimg.com/originals/b7/33/e0/b733e0b36236ef31820b19b59219ee0a.jpg\n",
            "[%] File Downloaded !\n",
            "\n",
            "[%] Downloading Image #16 from http://farm5.staticflickr.com/4017/5151909013_44700dd42a_z.jpg\n",
            "[%] File Downloaded !\n",
            "\n",
            "[%] Downloading Image #17 from https://i.pinimg.com/originals/c5/c8/d5/c5c8d597968fff866e6189c3c12f64b2.jpg\n",
            "[%] File Downloaded !\n",
            "\n",
            "[%] Downloading Image #18 from https://angkorflowers.com.au/wp-content/uploads/2021/02/True-love12-premium-red-roses-VA12-H.jpg\n",
            "[%] File Downloaded !\n",
            "\n",
            "[%] Downloading Image #19 from https://live.staticflickr.com/7587/16739669608_23d1c13f1a_b.jpg\n",
            "[%] File Downloaded !\n",
            "\n",
            "[%] Downloading Image #20 from https://i.pinimg.com/originals/4f/25/08/4f2508f998ec187ee62e6c27ecc2ed2c.jpg\n",
            "[%] File Downloaded !\n",
            "\n",
            "[%] Downloading Image #21 from https://3.bp.blogspot.com/-jnI14eC3t_Q/TiRb8ROSvVI/AAAAAAAAArg/h77ps7Ugpq0/s400/red-rose_11078.jpg\n",
            "[%] File Downloaded !\n",
            "\n",
            "[%] Downloading Image #22 from https://i.pinimg.com/originals/63/2e/1e/632e1e35a49f83c0e0e8a8d0d160c3fb.jpg\n",
            "[%] File Downloaded !\n",
            "\n",
            "[%] Downloading Image #23 from https://i.pinimg.com/originals/3d/de/e2/3ddee24ef80cf1fce58777d8f145100a.jpg\n",
            "[%] File Downloaded !\n",
            "\n",
            "[%] Downloading Image #24 from https://chantalfleuriste.com/wp-content/uploads/2020/01/20-V4D.jpeg\n",
            "[%] File Downloaded !\n",
            "\n",
            "[%] Downloading Image #25 from https://i.pinimg.com/originals/c3/eb/f4/c3ebf4ce92e34d0f260675b025746555.jpg\n",
            "[%] File Downloaded !\n",
            "\n",
            "[%] Downloading Image #26 from https://bestflowerdelivery.co.uk/wp-content/uploads/2020/05/True-Romance-12-Red-Roses.jpg\n",
            "[%] File Downloaded !\n",
            "\n",
            "[%] Downloading Image #27 from https://i.pinimg.com/originals/3b/3b/15/3b3b152ac8b643a5bc26c0773646f8ff.jpg\n",
            "[%] File Downloaded !\n",
            "\n",
            "[%] Downloading Image #28 from https://cdn.shopify.com/s/files/1/0012/4832/9781/products/ROSE-BACKGROUND-1_efab065f-10f3-45c2-ad8d-0aadcd857e7d.jpg?v=1531965806\n",
            "[%] File Downloaded !\n",
            "\n",
            "[%] Downloading Image #29 from https://asset.bloomnation.com/c_limit,d_vendor:global:catalog:product:image.png,f_auto,fl_preserve_transparency,q_auto/v1535581277/vendor/320/catalog/product/2/0/20170406012316_file_58e64144dd21f.jpg\n",
            "[%] File Downloaded !\n",
            "\n",
            "[%] Downloading Image #30 from https://assets.flowerstore.ph/uploads/products/photos/ZH2Ynh28yrkONX09xVBJpJbSwzOmusmXFxoZYenN.jpeg\n",
            "[%] File Downloaded !\n",
            "\n",
            "\n",
            "\n",
            "[%] Done. Downloaded 30 images.\n",
            "===============================================\n",
            "\n",
            "Please show your support here\n",
            "https://www.buymeacoffee.com/gurugaurav\n",
            "\n",
            "===============================================\n",
            "\n",
            "time: 8.81 s (started: 2021-06-19 13:12:31 +00:00)\n"
          ],
          "name": "stdout"
        }
      ]
    },
    {
      "cell_type": "code",
      "metadata": {
        "colab": {
          "base_uri": "https://localhost:8080/"
        },
        "id": "ZSq7zZudVZzx",
        "outputId": "190fdc8b-54ff-4dcb-d18f-378321026160"
      },
      "source": [
        "import numpy as np\n",
        "a=np.array([[1,2,3,4,5],[4,5,6,7,8]])\n",
        "a.ndim"
      ],
      "execution_count": 47,
      "outputs": [
        {
          "output_type": "execute_result",
          "data": {
            "text/plain": [
              "2"
            ]
          },
          "metadata": {
            "tags": []
          },
          "execution_count": 47
        },
        {
          "output_type": "stream",
          "text": [
            "time: 11.2 ms (started: 2021-06-19 13:12:42 +00:00)\n"
          ],
          "name": "stdout"
        }
      ]
    },
    {
      "cell_type": "code",
      "metadata": {
        "colab": {
          "base_uri": "https://localhost:8080/"
        },
        "id": "sHLIjSi2qtNB",
        "outputId": "0a3a25a8-d944-44e3-dcba-c3c7cfd7f2c4"
      },
      "source": [
        "a.flatten()"
      ],
      "execution_count": 48,
      "outputs": [
        {
          "output_type": "execute_result",
          "data": {
            "text/plain": [
              "array([1, 2, 3, 4, 5, 4, 5, 6, 7, 8])"
            ]
          },
          "metadata": {
            "tags": []
          },
          "execution_count": 48
        },
        {
          "output_type": "stream",
          "text": [
            "time: 9.6 ms (started: 2021-06-19 13:12:44 +00:00)\n"
          ],
          "name": "stdout"
        }
      ]
    },
    {
      "cell_type": "code",
      "metadata": {
        "colab": {
          "base_uri": "https://localhost:8080/"
        },
        "id": "JHqH5pwpU9Vn",
        "outputId": "7da940cd-40fe-400c-de64-a01d041eea17"
      },
      "source": [
        "#Preprocessing\n",
        "#resize and flatten\n",
        "\n",
        "import os\n",
        "import matplotlib.pyplot as plt\n",
        "import numpy as np\n",
        "from skimage.io import imread\n",
        "from skimage.transform import resize\n",
        "\n",
        "target=[]\n",
        "images=[]\n",
        "flat_data=[]\n",
        "\n",
        "DATADIR='/content/images'\n",
        "CATEGORIES=['red rose','clocks','motorbike']\n",
        "\n",
        "for category in CATEGORIES:\n",
        "  class_num=CATEGORIES.index(category)\n",
        "  path=os.path.join(DATADIR,category)                   #create path\n",
        "  for img in os.listdir(path):\n",
        "    img_array=imread(os.path.join(path,img))\n",
        "    #print(img_array.shape)\n",
        "    #plt.imshow(img_array)\n",
        "    img_resized=resize(img_array,(150,150,3))           #resize\n",
        "    flat_data.append(img_resized.flatten())             #flatten\n",
        "    images.append(img_resized)\n",
        "    target.append(class_num)\n",
        "flat_data=np.array(flat_data)\n",
        "target=np.array(target)\n",
        "images=np.array(images)\n",
        "\n"
      ],
      "execution_count": 49,
      "outputs": [
        {
          "output_type": "stream",
          "text": [
            "time: 52.5 s (started: 2021-06-19 13:12:51 +00:00)\n"
          ],
          "name": "stdout"
        }
      ]
    },
    {
      "cell_type": "code",
      "metadata": {
        "colab": {
          "base_uri": "https://localhost:8080/"
        },
        "id": "lGSCXo_ywGUX",
        "outputId": "48f9769c-adda-4a18-c125-5fe9ced649d8"
      },
      "source": [
        "flat_data"
      ],
      "execution_count": 50,
      "outputs": [
        {
          "output_type": "execute_result",
          "data": {
            "text/plain": [
              "array([[0.97647059, 0.97647059, 0.97647059, ..., 0.98823529, 0.98823529,\n",
              "        0.98823529],\n",
              "       [0.59013333, 0.64321569, 0.58307451, ..., 0.50484706, 0.48478431,\n",
              "        0.37708235],\n",
              "       [0.81960784, 0.81960784, 0.77254902, ..., 0.80784314, 0.80294118,\n",
              "        0.78872549],\n",
              "       ...,\n",
              "       [0.58562092, 0.65947712, 0.68496732, ..., 0.3754902 , 0.3872549 ,\n",
              "        0.38333333],\n",
              "       [0.84334641, 0.83942484, 0.86295425, ..., 0.4988671 , 0.38122004,\n",
              "        0.30196078],\n",
              "       [0.99607843, 0.99607843, 0.99607843, ..., 0.99607843, 0.99607843,\n",
              "        0.99607843]])"
            ]
          },
          "metadata": {
            "tags": []
          },
          "execution_count": 50
        },
        {
          "output_type": "stream",
          "text": [
            "time: 6.79 ms (started: 2021-06-19 13:15:02 +00:00)\n"
          ],
          "name": "stdout"
        }
      ]
    },
    {
      "cell_type": "code",
      "metadata": {
        "colab": {
          "base_uri": "https://localhost:8080/"
        },
        "id": "9VfmGvjkwKFk",
        "outputId": "768e33b0-b712-40db-84fc-03438468a474"
      },
      "source": [
        "flat_data[0]"
      ],
      "execution_count": 51,
      "outputs": [
        {
          "output_type": "execute_result",
          "data": {
            "text/plain": [
              "array([0.97647059, 0.97647059, 0.97647059, ..., 0.98823529, 0.98823529,\n",
              "       0.98823529])"
            ]
          },
          "metadata": {
            "tags": []
          },
          "execution_count": 51
        },
        {
          "output_type": "stream",
          "text": [
            "time: 4.83 ms (started: 2021-06-19 13:15:05 +00:00)\n"
          ],
          "name": "stdout"
        }
      ]
    },
    {
      "cell_type": "code",
      "metadata": {
        "colab": {
          "base_uri": "https://localhost:8080/"
        },
        "id": "4vELrsqNwcpn",
        "outputId": "c7eda03d-0ed0-4eca-90a1-ecd04e2518a8"
      },
      "source": [
        "target"
      ],
      "execution_count": 52,
      "outputs": [
        {
          "output_type": "execute_result",
          "data": {
            "text/plain": [
              "array([0, 0, 0, 0, 0, 0, 0, 0, 0, 0, 0, 0, 0, 0, 0, 0, 0, 0, 0, 0, 0, 0,\n",
              "       0, 0, 0, 0, 0, 0, 0, 0, 0, 0, 0, 0, 0, 1, 1, 1, 1, 1, 1, 1, 1, 1,\n",
              "       1, 1, 1, 1, 1, 1, 1, 1, 1, 1, 1, 1, 1, 1, 1, 1, 1, 1, 1, 1, 1, 1,\n",
              "       1, 1, 1, 1, 1, 1, 1, 1, 1, 2, 2, 2, 2, 2, 2, 2, 2, 2, 2, 2, 2, 2,\n",
              "       2, 2, 2, 2, 2, 2, 2, 2, 2, 2, 2, 2, 2, 2, 2, 2, 2, 2, 2, 2, 2, 2])"
            ]
          },
          "metadata": {
            "tags": []
          },
          "execution_count": 52
        },
        {
          "output_type": "stream",
          "text": [
            "time: 6.59 ms (started: 2021-06-19 13:15:08 +00:00)\n"
          ],
          "name": "stdout"
        }
      ]
    },
    {
      "cell_type": "code",
      "metadata": {
        "colab": {
          "base_uri": "https://localhost:8080/",
          "height": 299
        },
        "id": "T_teA9fDwhYB",
        "outputId": "e7624ec2-0048-4d87-9f89-b1c760c9db76"
      },
      "source": [
        "unique,count=np.unique(target,return_counts=True)\n",
        "plt.bar(CATEGORIES,count)"
      ],
      "execution_count": 53,
      "outputs": [
        {
          "output_type": "execute_result",
          "data": {
            "text/plain": [
              "<BarContainer object of 3 artists>"
            ]
          },
          "metadata": {
            "tags": []
          },
          "execution_count": 53
        },
        {
          "output_type": "display_data",
          "data": {
            "image/png": "[encoded data removed]",
            "text/plain": [
              "<Figure size 432x288 with 1 Axes>"
            ]
          },
          "metadata": {
            "tags": [],
            "needs_background": "light"
          }
        },
        {
          "output_type": "stream",
          "text": [
            "time: 153 ms (started: 2021-06-19 13:15:10 +00:00)\n"
          ],
          "name": "stdout"
        }
      ]
    },
    {
      "cell_type": "code",
      "metadata": {
        "colab": {
          "base_uri": "https://localhost:8080/"
        },
        "id": "g270YX6RxEqs",
        "outputId": "cd4d4e9f-855f-46a7-8608-0bb13402dea5"
      },
      "source": [
        "#Split data into training and testing\n",
        "\n",
        "from sklearn.model_selection import train_test_split\n",
        "x_train,x_test,y_train,y_test=train_test_split(flat_data,target,test_size=0.3,random_state=109)\n"
      ],
      "execution_count": 54,
      "outputs": [
        {
          "output_type": "stream",
          "text": [
            "time: 24.9 ms (started: 2021-06-19 13:15:13 +00:00)\n"
          ],
          "name": "stdout"
        }
      ]
    },
    {
      "cell_type": "code",
      "metadata": {
        "colab": {
          "base_uri": "https://localhost:8080/"
        },
        "id": "xdPUuVXW6Yu6",
        "outputId": "ae19548d-1af7-4262-f065-3425409da385"
      },
      "source": [
        "from sklearn.model_selection import GridSearchCV\n",
        "from sklearn import svm\n",
        "param_grid= [\n",
        "             {'C':[1,10,100,1000],'kernel':['linear']},\n",
        "             {'C':[1,10,100,1000],'gamma':[0.1,0.01,0.001,0.0001],'kernel':['rbf']},\n",
        "]\n",
        "svc=svm.SVC(probability=True)\n",
        "clf=GridSearchCV(svc,param_grid)\n",
        "clf.fit(x_train,y_train)\n"
      ],
      "execution_count": 55,
      "outputs": [
        {
          "output_type": "execute_result",
          "data": {
            "text/plain": [
              "GridSearchCV(cv=None, error_score=nan,\n",
              "             estimator=SVC(C=1.0, break_ties=False, cache_size=200,\n",
              "                           class_weight=None, coef0=0.0,\n",
              "                           decision_function_shape='ovr', degree=3,\n",
              "                           gamma='scale', kernel='rbf', max_iter=-1,\n",
              "                           probability=True, random_state=None, shrinking=True,\n",
              "                           tol=0.001, verbose=False),\n",
              "             iid='deprecated', n_jobs=None,\n",
              "             param_grid=[{'C': [1, 10, 100, 1000], 'kernel': ['linear']},\n",
              "                         {'C': [1, 10, 100, 1000],\n",
              "                          'gamma': [0.1, 0.01, 0.001, 0.0001],\n",
              "                          'kernel': ['rbf']}],\n",
              "             pre_dispatch='2*n_jobs', refit=True, return_train_score=False,\n",
              "             scoring=None, verbose=0)"
            ]
          },
          "metadata": {
            "tags": []
          },
          "execution_count": 55
        },
        {
          "output_type": "stream",
          "text": [
            "time: 5min 3s (started: 2021-06-19 13:15:18 +00:00)\n"
          ],
          "name": "stdout"
        }
      ]
    },
    {
      "cell_type": "code",
      "metadata": {
        "colab": {
          "base_uri": "https://localhost:8080/"
        },
        "id": "8_crZJQHNd3F",
        "outputId": "3af47a8a-8757-48cb-caea-217acf8e2ef6"
      },
      "source": [
        "y_pred=clf.predict(x_test)\n",
        "y_pred"
      ],
      "execution_count": 56,
      "outputs": [
        {
          "output_type": "execute_result",
          "data": {
            "text/plain": [
              "array([1, 2, 0, 2, 1, 2, 1, 1, 0, 2, 0, 2, 0, 1, 2, 2, 1, 2, 2, 0, 0, 0,\n",
              "       2, 1, 0, 2, 1, 0, 1, 2, 0, 0, 0])"
            ]
          },
          "metadata": {
            "tags": []
          },
          "execution_count": 56
        },
        {
          "output_type": "stream",
          "text": [
            "time: 306 ms (started: 2021-06-19 13:20:25 +00:00)\n"
          ],
          "name": "stdout"
        }
      ]
    },
    {
      "cell_type": "code",
      "metadata": {
        "colab": {
          "base_uri": "https://localhost:8080/"
        },
        "id": "gzsyQEmeNvT5",
        "outputId": "20a42c1d-50c4-4ca9-b1d1-cdeee00ee7c9"
      },
      "source": [
        "y_test"
      ],
      "execution_count": 57,
      "outputs": [
        {
          "output_type": "execute_result",
          "data": {
            "text/plain": [
              "array([1, 2, 0, 2, 0, 2, 1, 0, 1, 2, 0, 2, 0, 2, 2, 2, 1, 2, 2, 0, 2, 0,\n",
              "       2, 1, 1, 2, 1, 0, 1, 0, 0, 2, 0])"
            ]
          },
          "metadata": {
            "tags": []
          },
          "execution_count": 57
        },
        {
          "output_type": "stream",
          "text": [
            "time: 10.6 ms (started: 2021-06-19 13:20:29 +00:00)\n"
          ],
          "name": "stdout"
        }
      ]
    },
    {
      "cell_type": "code",
      "metadata": {
        "colab": {
          "base_uri": "https://localhost:8080/"
        },
        "id": "tznf5Uu7N1Bx",
        "outputId": "7d25d5aa-a386-44e3-e000-32ba418c9760"
      },
      "source": [
        "from sklearn.metrics import accuracy_score,confusion_matrix\n"
      ],
      "execution_count": 58,
      "outputs": [
        {
          "output_type": "stream",
          "text": [
            "time: 1.05 ms (started: 2021-06-19 13:20:31 +00:00)\n"
          ],
          "name": "stdout"
        }
      ]
    },
    {
      "cell_type": "code",
      "metadata": {
        "colab": {
          "base_uri": "https://localhost:8080/"
        },
        "id": "1RJuX2YJOCyD",
        "outputId": "0d9db87b-9962-42e7-99ef-587f575f113d"
      },
      "source": [
        "accuracy_score(y_pred,y_test)"
      ],
      "execution_count": 59,
      "outputs": [
        {
          "output_type": "execute_result",
          "data": {
            "text/plain": [
              "0.7575757575757576"
            ]
          },
          "metadata": {
            "tags": []
          },
          "execution_count": 59
        },
        {
          "output_type": "stream",
          "text": [
            "time: 6.29 ms (started: 2021-06-19 13:20:34 +00:00)\n"
          ],
          "name": "stdout"
        }
      ]
    },
    {
      "cell_type": "code",
      "metadata": {
        "colab": {
          "base_uri": "https://localhost:8080/"
        },
        "id": "s6vJ_hgEc_YJ",
        "outputId": "b5c8189f-1e50-479d-a4c4-7a6450b8cbda"
      },
      "source": [
        "confusion_matrix(y_pred,y_test)"
      ],
      "execution_count": 60,
      "outputs": [
        {
          "output_type": "execute_result",
          "data": {
            "text/plain": [
              "array([[ 8,  2,  2],\n",
              "       [ 2,  6,  1],\n",
              "       [ 1,  0, 11]])"
            ]
          },
          "metadata": {
            "tags": []
          },
          "execution_count": 60
        },
        {
          "output_type": "stream",
          "text": [
            "time: 5.6 ms (started: 2021-06-19 13:20:35 +00:00)\n"
          ],
          "name": "stdout"
        }
      ]
    },
    {
      "cell_type": "code",
      "metadata": {
        "colab": {
          "base_uri": "https://localhost:8080/"
        },
        "id": "0PiH1frTd0YJ",
        "outputId": "022a9489-f84d-4eb6-8e53-feab99e59977"
      },
      "source": [
        "#save the model using pickle library\n",
        "\n",
        "import pickle\n",
        "pickle.dump(clf,open('img_model.p','wb'))\n"
      ],
      "execution_count": 61,
      "outputs": [
        {
          "output_type": "stream",
          "text": [
            "time: 139 ms (started: 2021-06-19 13:20:40 +00:00)\n"
          ],
          "name": "stdout"
        }
      ]
    },
    {
      "cell_type": "code",
      "metadata": {
        "colab": {
          "base_uri": "https://localhost:8080/"
        },
        "id": "AuehZyvseOak",
        "outputId": "ecfe4458-e29d-4843-c5bf-e5592d8da41e"
      },
      "source": [
        "model=pickle.load(open('img_model.p','rb'))"
      ],
      "execution_count": 62,
      "outputs": [
        {
          "output_type": "stream",
          "text": [
            "time: 25.6 ms (started: 2021-06-19 13:20:53 +00:00)\n"
          ],
          "name": "stdout"
        }
      ]
    },
    {
      "cell_type": "code",
      "metadata": {
        "colab": {
          "base_uri": "https://localhost:8080/",
          "height": 337
        },
        "id": "nHa4A2c9erSU",
        "outputId": "235e94c1-1bc0-4fa4-a90f-ca3d9a485acf"
      },
      "source": [
        "#testing a new image\n",
        "flat_data=[]\n",
        "url=input('Enter url')\n",
        "img=imread(url)\n",
        "img_resized=resize(img,(150,150,3))\n",
        "flat_data.append(img_resized.flatten())\n",
        "flat_data=np.array(flat_data)\n",
        "print(img.shape)\n",
        "plt.imshow(img_resized)\n",
        "y_out=model.predict(flat_data)\n",
        "y_out=CATEGORIES[y_out[0]]\n",
        "print(f'PREDICTED OUTPUT:{y_out}')\n"
      ],
      "execution_count": 69,
      "outputs": [
        {
          "output_type": "stream",
          "text": [
            "Enter urlhttps://i.pinimg.com/736x/88/e8/4e/88e84ef871ca6ac1c98661e9753452c9.jpg\n",
            "(1021, 736, 3)\n",
            "PREDICTED OUTPUT:red rose\n"
          ],
          "name": "stdout"
        },
        {
          "output_type": "display_data",
          "data": {
            "image/png": "[encoded data removed]",
            "text/plain": [
              "<Figure size 432x288 with 1 Axes>"
            ]
          },
          "metadata": {
            "tags": [],
            "needs_background": "light"
          }
        },
        {
          "output_type": "stream",
          "text": [
            "time: 3.94 s (started: 2021-06-19 13:25:09 +00:00)\n"
          ],
          "name": "stdout"
        }
      ]
    }
  ]
}